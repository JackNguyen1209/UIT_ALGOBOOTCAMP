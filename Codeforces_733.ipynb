{
  "nbformat": 4,
  "nbformat_minor": 0,
  "metadata": {
    "colab": {
      "name": "Codeforces #733",
      "provenance": [],
      "authorship_tag": "ABX9TyPlFMj9lyCMx1pKllbO42QM",
      "include_colab_link": true
    },
    "kernelspec": {
      "name": "python3",
      "display_name": "Python 3"
    },
    "language_info": {
      "name": "python"
    }
  },
  "cells": [
    {
      "cell_type": "markdown",
      "metadata": {
        "id": "view-in-github",
        "colab_type": "text"
      },
      "source": [
        "<a href=\"https://colab.research.google.com/github/JackNguyen1209/UIT_ALGOBOOTCAMP/blob/main/Codeforces_733.ipynb\" target=\"_parent\"><img src=\"https://colab.research.google.com/assets/colab-badge.svg\" alt=\"Open In Colab\"/></a>"
      ]
    },
    {
      "cell_type": "markdown",
      "metadata": {
        "id": "07Pp0gvlIQUX"
      },
      "source": [
        "Bài làm được ABC\n",
        "\n",
        "AB ban đầu cài sai hướng dẫn đến mất thời gian ~15p cho bài A ~25p cho bài B.\n",
        "\n",
        "Bài D là một bài duyệt + tham lam nhưng  lại phức tạp hoá lên dạng đồ thị rồi cài các thuật toán phức tạp trên đồ thị rồi mất thời gian khá nhiều (1h30) cho bài đó nhưng vẫn giải không ra. "
      ]
    },
    {
      "cell_type": "markdown",
      "metadata": {
        "id": "x9l94yLUIkKE"
      },
      "source": [
        "#A: Binary Decimal\n",
        "\n",
        "Nhận xét: Chỉ cần duyệt cơ bản qua chuỗi và tìm chữ số lớn nhất"
      ]
    },
    {
      "cell_type": "code",
      "metadata": {
        "id": "GlWdQuwBILHC"
      },
      "source": [
        "/*\n",
        "Nguyen Duc Anh Phuc_Jacke\n",
        "*/\n",
        "\n",
        "#include \"bits/stdc++.h\"\n",
        "\n",
        "using namespace std;\n",
        "\n",
        "typedef long long ll;\n",
        "typedef long double ld;\n",
        "typedef pair<ll, ll> pll;\n",
        "\n",
        "int main()\n",
        "{\n",
        "\tios_base::sync_with_stdio(false); cin.tie(0); cout.tie(0);\n",
        "\tll tt;\n",
        "\tcin >> tt;\n",
        "\twhile(tt--)\n",
        "\t{\n",
        "\t\tll s;\n",
        "\t\tcin >> s;\n",
        "\t\tll t = s;\n",
        "\t\tll ma = 0;\n",
        "\t\twhile (t != 0)\n",
        "\t\t{\n",
        "\t\t\tma = max(ma, (ll)t % 10);\n",
        "\t\t\tt /= 10;\n",
        "\t\t}\n",
        "\t\tcout << ma << \"\\n\";\n",
        "\t}\n",
        "\treturn 0;\n",
        "}"
      ],
      "execution_count": null,
      "outputs": []
    },
    {
      "cell_type": "markdown",
      "metadata": {
        "id": "DPJNzMGqI6Bc"
      },
      "source": [
        "#B: Putting Plates\n",
        "Nhận xét: Cần một chút observation"
      ]
    },
    {
      "cell_type": "code",
      "metadata": {
        "id": "EB-jtpd4JWN6"
      },
      "source": [
        "/*\n",
        "Nguyen Duc Anh Phuc_Jacke\n",
        "*/\n",
        "\n",
        "#include \"bits/stdc++.h\"\n",
        "\n",
        "using namespace std;\n",
        "\n",
        "typedef long long ll;\n",
        "typedef long double ld;\n",
        "typedef pair<ll, ll> pll;\n",
        "\n",
        "bool kt(vector<string>& a, ll x, ll y,ll h,ll w)\n",
        "{\n",
        "\tfor (ll i = -1; i <= 1; i++)\n",
        "\t\tfor (ll j = -1; j <= 1; j++)\n",
        "\t\t\tif (i+x <= h - 1 && j+y <= w - 1 && i+x>=0 && j+y>=0 && a[i+x][j+y] == '1')\n",
        "\t\t\t\treturn 0;\n",
        "\treturn 1;\n",
        "}\n",
        "\n",
        "int main()\n",
        "{\n",
        "\tios_base::sync_with_stdio(false); cin.tie(0); cout.tie(0);\n",
        "\tll tt;\n",
        "\tcin >> tt;\n",
        "\twhile (tt--)\n",
        "\t{\n",
        "\t\tll h, w;\n",
        "\t\tcin >> h >> w;\n",
        "\t\tvector<string> a(h, string(w, '0'));\n",
        "\t\tif (h & 1)\n",
        "\t\t{\n",
        "\t\t\tfor (ll i = 0; i <= h - 1; i+=2)\n",
        "\t\t\t\ta[i][0] = '1';\n",
        "\t\t\tfor (ll i = 0; i <= h - 1; i++)\n",
        "\t\t\t\tif (kt(a, i, w - 1, h, w))\n",
        "\t\t\t\t\ta[i][w - 1] = '1';\n",
        "\n",
        "\t\t\tfor (ll i = 0; i <= w - 1; i++)\n",
        "\t\t\t\tif (kt(a, 0, i, h, w))\n",
        "\t\t\t\t\ta[0][i] = '1';\n",
        "\t\t\tfor (ll i = 0; i <= w - 1; i++)\n",
        "\t\t\t\tif (kt(a, h-1, i, h, w))\n",
        "\t\t\t\t\ta[h-1][i] = '1';\n",
        "\t\t}\n",
        "\t\telse if (w & 1)\n",
        "\t\t{\n",
        "\t\t\tfor (ll i = 0; i <= w - 1; i += 2)\n",
        "\t\t\t\ta[0][i] = '1';\n",
        "\t\t\tfor (ll i = 0; i <= w - 1; i++)\n",
        "\t\t\t\tif (kt(a, h-1, i, h, w))\n",
        "\t\t\t\t\ta[h-1][i] = '1';\n",
        "\n",
        "\t\t\tfor (ll i = 0; i <= h - 1; i++)\n",
        "\t\t\t\tif (kt(a, i , 0, h, w))\n",
        "\t\t\t\t\ta[i][0] = '1';\n",
        "\t\t\tfor (ll i = 0; i <= h - 1; i++)\n",
        "\t\t\t\tif (kt(a,i, w-1, h, w))\n",
        "\t\t\t\t\ta[i][w-1] = '1';\n",
        "\t\t}\n",
        "\t\telse\n",
        "\t\t{\n",
        "\t\t\tfor (ll i = 0; i <= w - 1; i += 2)\n",
        "\t\t\t\ta[0][i] = '1';\n",
        "\t\t\tfor (ll i = 0; i <= w - 1; i++)\n",
        "\t\t\t\tif (kt(a, h - 1, i, h, w))\n",
        "\t\t\t\t\ta[h - 1][i] = '1';\n",
        "\n",
        "\t\t\tfor (ll i = 0; i <= h - 1; i++)\n",
        "\t\t\t\tif (kt(a, i, 0, h, w))\n",
        "\t\t\t\t\ta[i][0] = '1';\n",
        "\t\t\tfor (ll i = 0; i <= h - 1; i++)\n",
        "\t\t\t\tif (kt(a, i, w - 1, h, w))\n",
        "\t\t\t\t\ta[i][w - 1] = '1';\n",
        "\t\t}\n",
        "\n",
        "\t\tfor (ll i = 0; i <= h - 1; i++)\n",
        "\t\t{\n",
        "\t\t\tfor (ll j = 0; j <= w - 1; j++)\n",
        "\t\t\t{\n",
        "\t\t\t\tcout << a[i][j];\n",
        "\t\t\t}\n",
        "\t\t\tcout << \"\\n\";\n",
        "\t\t}\n",
        "\t\tcout << \"\\n\";\n",
        "\t}\n",
        "\treturn 0;\n",
        "}"
      ],
      "execution_count": null,
      "outputs": []
    },
    {
      "cell_type": "markdown",
      "metadata": {
        "id": "k__HacOFJUL_"
      },
      "source": [
        "#C:Pursuit\n",
        "\n",
        "Nhẫn xét: Binary search trên kết quả"
      ]
    },
    {
      "cell_type": "code",
      "metadata": {
        "id": "G4BShnRWJgjC"
      },
      "source": [
        "/*\n",
        "Nguyen Duc Anh Phuc_Jacke\n",
        "*/\n",
        "\n",
        "#include \"bits/stdc++.h\"\n",
        "\n",
        "using namespace std;\n",
        "\n",
        "typedef long long ll;\n",
        "typedef long double ld;\n",
        "typedef pair<ll, ll> pll;\n",
        "\n",
        "bool kt(vector<ll>& pra, vector<ll>& prb, ll n, ll m)\n",
        "{\n",
        "\tm += n;\n",
        "\tll k = m - m / 4;\n",
        "\tif (n <= m - k)\n",
        "\t{\n",
        "\t\treturn 1;\n",
        "\t}\n",
        "\telse\n",
        "\t{\n",
        "\t\tll sa = (m - n) * 100 + pra[n] - pra[n-(k - (m - n))];\n",
        "\t\tll sb = +prb[n] - prb[max(0LL,n - k)];\n",
        "\t\treturn (sa >= sb);\n",
        "\t}\n",
        "}\n",
        "int main()\n",
        "{\n",
        "\tios_base::sync_with_stdio(false); cin.tie(0); cout.tie(0);\n",
        "\tll tt;\n",
        "\tcin >> tt;\n",
        "\twhile (tt--)\n",
        "\t{\n",
        "\t\tll n;\n",
        "\t\tcin >> n;\n",
        "\t\tvector<ll>a(n + 1);\n",
        "\t\tvector <ll>b(n + 1);\n",
        "\t\tfor (ll i = 1; i <= n; i++)\n",
        "\t\t\tcin >> a[i];\n",
        "\t\tfor (ll i = 1; i <= n; i++)\n",
        "\t\t\tcin >> b[i];\n",
        "\t\tsort(a.begin() + 1, a.end());\n",
        "\t\tsort(b.begin() + 1, b.end());\n",
        "\t\tvector<ll>pra(n + 2,0);\n",
        "\t\tvector<ll>prb(n + 2, 0);\n",
        "\t\tfor (ll i = 1; i <= n; i++)\n",
        "\t\t\tpra[i] = pra[i - 1] + a[i], prb[i] = prb[i - 1] + b[i];\n",
        "\t\tll res = -1;\n",
        "\t\tll l = 0;\n",
        "\t\tll r = 1e5;\n",
        "\t\twhile (l <= r)\n",
        "\t\t{\n",
        "\t\t\tll m = (l + r) >> 1;\n",
        "\t\t\tif (kt(pra, prb, n, m))\n",
        "\t\t\t{\n",
        "\t\t\t\tr = m - 1;\n",
        "\t\t\t\tres = m;\n",
        "\t\t\t}\n",
        "\t\t\telse\n",
        "\t\t\t\tl = m + 1;\n",
        "\t\t}\n",
        "\t\tcout << res << \"\\n\";\n",
        "\t}\n",
        "\treturn 0;\n",
        "}"
      ],
      "execution_count": null,
      "outputs": []
    }
  ]
}